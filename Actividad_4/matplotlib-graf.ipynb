{
 "cells": [
  {
   "cell_type": "code",
   "execution_count": 4,
   "metadata": {
    "collapsed": true
   },
   "outputs": [],
   "source": [
    "import matplotlib.pyplot as plt;import pandas as pd"
   ]
  },
  {
   "cell_type": "code",
   "execution_count": 5,
   "metadata": {
    "collapsed": true
   },
   "outputs": [],
   "source": [
    "import matplotlib as plt"
   ]
  },
  {
   "cell_type": "code",
   "execution_count": 6,
   "metadata": {
    "collapsed": true
   },
   "outputs": [],
   "source": [
    "import numpy as np"
   ]
  },
  {
   "cell_type": "code",
   "execution_count": 7,
   "metadata": {
    "collapsed": true
   },
   "outputs": [],
   "source": [
    "import pylab as pl;import csv "
   ]
  },
  {
   "cell_type": "code",
   "execution_count": 8,
   "metadata": {
    "collapsed": false
   },
   "outputs": [],
   "source": [
    "df=pd.read_csv(\"febrero.txt\", header=None, delimiter=r\"\\s+\")"
   ]
  },
  {
   "cell_type": "code",
   "execution_count": 9,
   "metadata": {
    "collapsed": true
   },
   "outputs": [],
   "source": [
    "import os.path"
   ]
  },
  {
   "cell_type": "code",
   "execution_count": 10,
   "metadata": {
    "collapsed": false
   },
   "outputs": [
    {
     "data": {
      "text/html": [
       "<div>\n",
       "<table border=\"1\" class=\"dataframe\">\n",
       "  <thead>\n",
       "    <tr style=\"text-align: right;\">\n",
       "      <th></th>\n",
       "      <th>0</th>\n",
       "      <th>1</th>\n",
       "      <th>2</th>\n",
       "      <th>3</th>\n",
       "      <th>4</th>\n",
       "      <th>5</th>\n",
       "      <th>6</th>\n",
       "      <th>7</th>\n",
       "      <th>8</th>\n",
       "      <th>9</th>\n",
       "      <th>10</th>\n",
       "    </tr>\n",
       "  </thead>\n",
       "  <tbody>\n",
       "    <tr>\n",
       "      <th>0</th>\n",
       "      <td>865.0</td>\n",
       "      <td>1372</td>\n",
       "      <td>6.2</td>\n",
       "      <td>1.2</td>\n",
       "      <td>70.0</td>\n",
       "      <td>4.85</td>\n",
       "      <td>45.0</td>\n",
       "      <td>7.0</td>\n",
       "      <td>291.2</td>\n",
       "      <td>305.4</td>\n",
       "      <td>292.0</td>\n",
       "    </tr>\n",
       "    <tr>\n",
       "      <th>1</th>\n",
       "      <td>864.0</td>\n",
       "      <td>1384</td>\n",
       "      <td>5.6</td>\n",
       "      <td>-4.4</td>\n",
       "      <td>49.0</td>\n",
       "      <td>3.21</td>\n",
       "      <td>42.0</td>\n",
       "      <td>7.0</td>\n",
       "      <td>290.6</td>\n",
       "      <td>300.2</td>\n",
       "      <td>291.2</td>\n",
       "    </tr>\n",
       "    <tr>\n",
       "      <th>2</th>\n",
       "      <td>856.0</td>\n",
       "      <td>1483</td>\n",
       "      <td>4.7</td>\n",
       "      <td>-3.6</td>\n",
       "      <td>55.0</td>\n",
       "      <td>3.44</td>\n",
       "      <td>20.0</td>\n",
       "      <td>7.0</td>\n",
       "      <td>290.5</td>\n",
       "      <td>300.7</td>\n",
       "      <td>291.1</td>\n",
       "    </tr>\n",
       "    <tr>\n",
       "      <th>3</th>\n",
       "      <td>850.0</td>\n",
       "      <td>1558</td>\n",
       "      <td>4.0</td>\n",
       "      <td>-3.0</td>\n",
       "      <td>60.0</td>\n",
       "      <td>3.62</td>\n",
       "      <td>20.0</td>\n",
       "      <td>8.0</td>\n",
       "      <td>290.3</td>\n",
       "      <td>301.1</td>\n",
       "      <td>291.0</td>\n",
       "    </tr>\n",
       "    <tr>\n",
       "      <th>4</th>\n",
       "      <td>795.0</td>\n",
       "      <td>2098</td>\n",
       "      <td>-0.6</td>\n",
       "      <td>-3.8</td>\n",
       "      <td>79.0</td>\n",
       "      <td>3.65</td>\n",
       "      <td>35.0</td>\n",
       "      <td>9.0</td>\n",
       "      <td>291.0</td>\n",
       "      <td>301.9</td>\n",
       "      <td>291.7</td>\n",
       "    </tr>\n",
       "  </tbody>\n",
       "</table>\n",
       "</div>"
      ],
      "text/plain": [
       "      0     1    2    3     4     5     6    7      8      9      10\n",
       "0  865.0  1372  6.2  1.2  70.0  4.85  45.0  7.0  291.2  305.4  292.0\n",
       "1  864.0  1384  5.6 -4.4  49.0  3.21  42.0  7.0  290.6  300.2  291.2\n",
       "2  856.0  1483  4.7 -3.6  55.0  3.44  20.0  7.0  290.5  300.7  291.1\n",
       "3  850.0  1558  4.0 -3.0  60.0  3.62  20.0  8.0  290.3  301.1  291.0\n",
       "4  795.0  2098 -0.6 -3.8  79.0  3.65  35.0  9.0  291.0  301.9  291.7"
      ]
     },
     "execution_count": 10,
     "metadata": {},
     "output_type": "execute_result"
    }
   ],
   "source": [
    "df.head()"
   ]
  },
  {
   "cell_type": "code",
   "execution_count": 11,
   "metadata": {
    "collapsed": true
   },
   "outputs": [],
   "source": [
    "df.columns = ['Pres', 'HGHT','TEMP','DWPT','RELH','MIXR','DRCT','SKNT','THTA','THTE','THTV']"
   ]
  },
  {
   "cell_type": "code",
   "execution_count": 12,
   "metadata": {
    "collapsed": false,
    "scrolled": true
   },
   "outputs": [
    {
     "data": {
      "text/html": [
       "<div>\n",
       "<table border=\"1\" class=\"dataframe\">\n",
       "  <thead>\n",
       "    <tr style=\"text-align: right;\">\n",
       "      <th></th>\n",
       "      <th>Pres</th>\n",
       "      <th>HGHT</th>\n",
       "      <th>TEMP</th>\n",
       "      <th>DWPT</th>\n",
       "      <th>RELH</th>\n",
       "      <th>MIXR</th>\n",
       "      <th>DRCT</th>\n",
       "      <th>SKNT</th>\n",
       "      <th>THTA</th>\n",
       "      <th>THTE</th>\n",
       "      <th>THTV</th>\n",
       "    </tr>\n",
       "  </thead>\n",
       "  <tbody>\n",
       "    <tr>\n",
       "      <th>0</th>\n",
       "      <td>865.0</td>\n",
       "      <td>1372</td>\n",
       "      <td>6.2</td>\n",
       "      <td>1.2</td>\n",
       "      <td>70.0</td>\n",
       "      <td>4.85</td>\n",
       "      <td>45.0</td>\n",
       "      <td>7.0</td>\n",
       "      <td>291.2</td>\n",
       "      <td>305.4</td>\n",
       "      <td>292.0</td>\n",
       "    </tr>\n",
       "    <tr>\n",
       "      <th>1</th>\n",
       "      <td>864.0</td>\n",
       "      <td>1384</td>\n",
       "      <td>5.6</td>\n",
       "      <td>-4.4</td>\n",
       "      <td>49.0</td>\n",
       "      <td>3.21</td>\n",
       "      <td>42.0</td>\n",
       "      <td>7.0</td>\n",
       "      <td>290.6</td>\n",
       "      <td>300.2</td>\n",
       "      <td>291.2</td>\n",
       "    </tr>\n",
       "    <tr>\n",
       "      <th>2</th>\n",
       "      <td>856.0</td>\n",
       "      <td>1483</td>\n",
       "      <td>4.7</td>\n",
       "      <td>-3.6</td>\n",
       "      <td>55.0</td>\n",
       "      <td>3.44</td>\n",
       "      <td>20.0</td>\n",
       "      <td>7.0</td>\n",
       "      <td>290.5</td>\n",
       "      <td>300.7</td>\n",
       "      <td>291.1</td>\n",
       "    </tr>\n",
       "    <tr>\n",
       "      <th>3</th>\n",
       "      <td>850.0</td>\n",
       "      <td>1558</td>\n",
       "      <td>4.0</td>\n",
       "      <td>-3.0</td>\n",
       "      <td>60.0</td>\n",
       "      <td>3.62</td>\n",
       "      <td>20.0</td>\n",
       "      <td>8.0</td>\n",
       "      <td>290.3</td>\n",
       "      <td>301.1</td>\n",
       "      <td>291.0</td>\n",
       "    </tr>\n",
       "    <tr>\n",
       "      <th>4</th>\n",
       "      <td>795.0</td>\n",
       "      <td>2098</td>\n",
       "      <td>-0.6</td>\n",
       "      <td>-3.8</td>\n",
       "      <td>79.0</td>\n",
       "      <td>3.65</td>\n",
       "      <td>35.0</td>\n",
       "      <td>9.0</td>\n",
       "      <td>291.0</td>\n",
       "      <td>301.9</td>\n",
       "      <td>291.7</td>\n",
       "    </tr>\n",
       "    <tr>\n",
       "      <th>5</th>\n",
       "      <td>780.0</td>\n",
       "      <td>2251</td>\n",
       "      <td>-1.9</td>\n",
       "      <td>-4.0</td>\n",
       "      <td>86.0</td>\n",
       "      <td>3.66</td>\n",
       "      <td>26.0</td>\n",
       "      <td>9.0</td>\n",
       "      <td>291.2</td>\n",
       "      <td>302.1</td>\n",
       "      <td>291.9</td>\n",
       "    </tr>\n",
       "    <tr>\n",
       "      <th>6</th>\n",
       "      <td>737.0</td>\n",
       "      <td>2701</td>\n",
       "      <td>-3.9</td>\n",
       "      <td>-4.7</td>\n",
       "      <td>94.0</td>\n",
       "      <td>3.68</td>\n",
       "      <td>0.0</td>\n",
       "      <td>10.0</td>\n",
       "      <td>293.8</td>\n",
       "      <td>304.8</td>\n",
       "      <td>294.4</td>\n",
       "    </tr>\n",
       "    <tr>\n",
       "      <th>7</th>\n",
       "      <td>713.0</td>\n",
       "      <td>2964</td>\n",
       "      <td>-5.1</td>\n",
       "      <td>-5.1</td>\n",
       "      <td>100.0</td>\n",
       "      <td>3.69</td>\n",
       "      <td>356.0</td>\n",
       "      <td>7.0</td>\n",
       "      <td>295.2</td>\n",
       "      <td>306.4</td>\n",
       "      <td>295.9</td>\n",
       "    </tr>\n",
       "    <tr>\n",
       "      <th>8</th>\n",
       "      <td>709.0</td>\n",
       "      <td>3008</td>\n",
       "      <td>-4.7</td>\n",
       "      <td>-4.7</td>\n",
       "      <td>100.0</td>\n",
       "      <td>3.83</td>\n",
       "      <td>355.0</td>\n",
       "      <td>7.0</td>\n",
       "      <td>296.2</td>\n",
       "      <td>307.8</td>\n",
       "      <td>296.9</td>\n",
       "    </tr>\n",
       "    <tr>\n",
       "      <th>9</th>\n",
       "      <td>700.0</td>\n",
       "      <td>3109</td>\n",
       "      <td>-3.7</td>\n",
       "      <td>-3.7</td>\n",
       "      <td>100.0</td>\n",
       "      <td>4.18</td>\n",
       "      <td>340.0</td>\n",
       "      <td>3.0</td>\n",
       "      <td>298.4</td>\n",
       "      <td>311.1</td>\n",
       "      <td>299.1</td>\n",
       "    </tr>\n",
       "    <tr>\n",
       "      <th>10</th>\n",
       "      <td>692.0</td>\n",
       "      <td>3200</td>\n",
       "      <td>-3.5</td>\n",
       "      <td>-3.5</td>\n",
       "      <td>100.0</td>\n",
       "      <td>4.29</td>\n",
       "      <td>279.0</td>\n",
       "      <td>4.0</td>\n",
       "      <td>299.6</td>\n",
       "      <td>312.7</td>\n",
       "      <td>300.3</td>\n",
       "    </tr>\n",
       "  </tbody>\n",
       "</table>\n",
       "</div>"
      ],
      "text/plain": [
       "     Pres  HGHT  TEMP  DWPT   RELH  MIXR   DRCT  SKNT   THTA   THTE   THTV\n",
       "0   865.0  1372   6.2   1.2   70.0  4.85   45.0   7.0  291.2  305.4  292.0\n",
       "1   864.0  1384   5.6  -4.4   49.0  3.21   42.0   7.0  290.6  300.2  291.2\n",
       "2   856.0  1483   4.7  -3.6   55.0  3.44   20.0   7.0  290.5  300.7  291.1\n",
       "3   850.0  1558   4.0  -3.0   60.0  3.62   20.0   8.0  290.3  301.1  291.0\n",
       "4   795.0  2098  -0.6  -3.8   79.0  3.65   35.0   9.0  291.0  301.9  291.7\n",
       "5   780.0  2251  -1.9  -4.0   86.0  3.66   26.0   9.0  291.2  302.1  291.9\n",
       "6   737.0  2701  -3.9  -4.7   94.0  3.68    0.0  10.0  293.8  304.8  294.4\n",
       "7   713.0  2964  -5.1  -5.1  100.0  3.69  356.0   7.0  295.2  306.4  295.9\n",
       "8   709.0  3008  -4.7  -4.7  100.0  3.83  355.0   7.0  296.2  307.8  296.9\n",
       "9   700.0  3109  -3.7  -3.7  100.0  4.18  340.0   3.0  298.4  311.1  299.1\n",
       "10  692.0  3200  -3.5  -3.5  100.0  4.29  279.0   4.0  299.6  312.7  300.3"
      ]
     },
     "execution_count": 12,
     "metadata": {},
     "output_type": "execute_result"
    }
   ],
   "source": [
    "df.head(11)"
   ]
  },
  {
   "cell_type": "code",
   "execution_count": 13,
   "metadata": {
    "collapsed": false,
    "scrolled": false
   },
   "outputs": [
    {
     "data": {
      "text/plain": [
       "Pres    0\n",
       "HGHT    0\n",
       "TEMP    0\n",
       "DWPT    1\n",
       "RELH    1\n",
       "MIXR    1\n",
       "DRCT    1\n",
       "SKNT    1\n",
       "THTA    1\n",
       "THTE    1\n",
       "THTV    1\n",
       "dtype: int64"
      ]
     },
     "execution_count": 13,
     "metadata": {},
     "output_type": "execute_result"
    }
   ],
   "source": [
    "df.apply(lambda x: sum(x.isnull()),axis=0)"
   ]
  },
  {
   "cell_type": "code",
   "execution_count": 14,
   "metadata": {
    "collapsed": true
   },
   "outputs": [],
   "source": [
    "df_clean = df.dropna()"
   ]
  },
  {
   "cell_type": "code",
   "execution_count": 15,
   "metadata": {
    "collapsed": false
   },
   "outputs": [
    {
     "data": {
      "text/html": [
       "<div>\n",
       "<table border=\"1\" class=\"dataframe\">\n",
       "  <thead>\n",
       "    <tr style=\"text-align: right;\">\n",
       "      <th></th>\n",
       "      <th>Pres</th>\n",
       "      <th>HGHT</th>\n",
       "      <th>TEMP</th>\n",
       "      <th>DWPT</th>\n",
       "      <th>RELH</th>\n",
       "      <th>MIXR</th>\n",
       "      <th>DRCT</th>\n",
       "      <th>SKNT</th>\n",
       "      <th>THTA</th>\n",
       "      <th>THTE</th>\n",
       "      <th>THTV</th>\n",
       "    </tr>\n",
       "  </thead>\n",
       "  <tbody>\n",
       "    <tr>\n",
       "      <th>0</th>\n",
       "      <td>865.0</td>\n",
       "      <td>1372</td>\n",
       "      <td>6.2</td>\n",
       "      <td>1.2</td>\n",
       "      <td>70.0</td>\n",
       "      <td>4.85</td>\n",
       "      <td>45.0</td>\n",
       "      <td>7.0</td>\n",
       "      <td>291.2</td>\n",
       "      <td>305.4</td>\n",
       "      <td>292.0</td>\n",
       "    </tr>\n",
       "    <tr>\n",
       "      <th>1</th>\n",
       "      <td>864.0</td>\n",
       "      <td>1384</td>\n",
       "      <td>5.6</td>\n",
       "      <td>-4.4</td>\n",
       "      <td>49.0</td>\n",
       "      <td>3.21</td>\n",
       "      <td>42.0</td>\n",
       "      <td>7.0</td>\n",
       "      <td>290.6</td>\n",
       "      <td>300.2</td>\n",
       "      <td>291.2</td>\n",
       "    </tr>\n",
       "    <tr>\n",
       "      <th>2</th>\n",
       "      <td>856.0</td>\n",
       "      <td>1483</td>\n",
       "      <td>4.7</td>\n",
       "      <td>-3.6</td>\n",
       "      <td>55.0</td>\n",
       "      <td>3.44</td>\n",
       "      <td>20.0</td>\n",
       "      <td>7.0</td>\n",
       "      <td>290.5</td>\n",
       "      <td>300.7</td>\n",
       "      <td>291.1</td>\n",
       "    </tr>\n",
       "    <tr>\n",
       "      <th>3</th>\n",
       "      <td>850.0</td>\n",
       "      <td>1558</td>\n",
       "      <td>4.0</td>\n",
       "      <td>-3.0</td>\n",
       "      <td>60.0</td>\n",
       "      <td>3.62</td>\n",
       "      <td>20.0</td>\n",
       "      <td>8.0</td>\n",
       "      <td>290.3</td>\n",
       "      <td>301.1</td>\n",
       "      <td>291.0</td>\n",
       "    </tr>\n",
       "    <tr>\n",
       "      <th>4</th>\n",
       "      <td>795.0</td>\n",
       "      <td>2098</td>\n",
       "      <td>-0.6</td>\n",
       "      <td>-3.8</td>\n",
       "      <td>79.0</td>\n",
       "      <td>3.65</td>\n",
       "      <td>35.0</td>\n",
       "      <td>9.0</td>\n",
       "      <td>291.0</td>\n",
       "      <td>301.9</td>\n",
       "      <td>291.7</td>\n",
       "    </tr>\n",
       "    <tr>\n",
       "      <th>5</th>\n",
       "      <td>780.0</td>\n",
       "      <td>2251</td>\n",
       "      <td>-1.9</td>\n",
       "      <td>-4.0</td>\n",
       "      <td>86.0</td>\n",
       "      <td>3.66</td>\n",
       "      <td>26.0</td>\n",
       "      <td>9.0</td>\n",
       "      <td>291.2</td>\n",
       "      <td>302.1</td>\n",
       "      <td>291.9</td>\n",
       "    </tr>\n",
       "    <tr>\n",
       "      <th>6</th>\n",
       "      <td>737.0</td>\n",
       "      <td>2701</td>\n",
       "      <td>-3.9</td>\n",
       "      <td>-4.7</td>\n",
       "      <td>94.0</td>\n",
       "      <td>3.68</td>\n",
       "      <td>0.0</td>\n",
       "      <td>10.0</td>\n",
       "      <td>293.8</td>\n",
       "      <td>304.8</td>\n",
       "      <td>294.4</td>\n",
       "    </tr>\n",
       "    <tr>\n",
       "      <th>7</th>\n",
       "      <td>713.0</td>\n",
       "      <td>2964</td>\n",
       "      <td>-5.1</td>\n",
       "      <td>-5.1</td>\n",
       "      <td>100.0</td>\n",
       "      <td>3.69</td>\n",
       "      <td>356.0</td>\n",
       "      <td>7.0</td>\n",
       "      <td>295.2</td>\n",
       "      <td>306.4</td>\n",
       "      <td>295.9</td>\n",
       "    </tr>\n",
       "    <tr>\n",
       "      <th>8</th>\n",
       "      <td>709.0</td>\n",
       "      <td>3008</td>\n",
       "      <td>-4.7</td>\n",
       "      <td>-4.7</td>\n",
       "      <td>100.0</td>\n",
       "      <td>3.83</td>\n",
       "      <td>355.0</td>\n",
       "      <td>7.0</td>\n",
       "      <td>296.2</td>\n",
       "      <td>307.8</td>\n",
       "      <td>296.9</td>\n",
       "    </tr>\n",
       "    <tr>\n",
       "      <th>9</th>\n",
       "      <td>700.0</td>\n",
       "      <td>3109</td>\n",
       "      <td>-3.7</td>\n",
       "      <td>-3.7</td>\n",
       "      <td>100.0</td>\n",
       "      <td>4.18</td>\n",
       "      <td>340.0</td>\n",
       "      <td>3.0</td>\n",
       "      <td>298.4</td>\n",
       "      <td>311.1</td>\n",
       "      <td>299.1</td>\n",
       "    </tr>\n",
       "    <tr>\n",
       "      <th>10</th>\n",
       "      <td>692.0</td>\n",
       "      <td>3200</td>\n",
       "      <td>-3.5</td>\n",
       "      <td>-3.5</td>\n",
       "      <td>100.0</td>\n",
       "      <td>4.29</td>\n",
       "      <td>279.0</td>\n",
       "      <td>4.0</td>\n",
       "      <td>299.6</td>\n",
       "      <td>312.7</td>\n",
       "      <td>300.3</td>\n",
       "    </tr>\n",
       "  </tbody>\n",
       "</table>\n",
       "</div>"
      ],
      "text/plain": [
       "     Pres  HGHT  TEMP  DWPT   RELH  MIXR   DRCT  SKNT   THTA   THTE   THTV\n",
       "0   865.0  1372   6.2   1.2   70.0  4.85   45.0   7.0  291.2  305.4  292.0\n",
       "1   864.0  1384   5.6  -4.4   49.0  3.21   42.0   7.0  290.6  300.2  291.2\n",
       "2   856.0  1483   4.7  -3.6   55.0  3.44   20.0   7.0  290.5  300.7  291.1\n",
       "3   850.0  1558   4.0  -3.0   60.0  3.62   20.0   8.0  290.3  301.1  291.0\n",
       "4   795.0  2098  -0.6  -3.8   79.0  3.65   35.0   9.0  291.0  301.9  291.7\n",
       "5   780.0  2251  -1.9  -4.0   86.0  3.66   26.0   9.0  291.2  302.1  291.9\n",
       "6   737.0  2701  -3.9  -4.7   94.0  3.68    0.0  10.0  293.8  304.8  294.4\n",
       "7   713.0  2964  -5.1  -5.1  100.0  3.69  356.0   7.0  295.2  306.4  295.9\n",
       "8   709.0  3008  -4.7  -4.7  100.0  3.83  355.0   7.0  296.2  307.8  296.9\n",
       "9   700.0  3109  -3.7  -3.7  100.0  4.18  340.0   3.0  298.4  311.1  299.1\n",
       "10  692.0  3200  -3.5  -3.5  100.0  4.29  279.0   4.0  299.6  312.7  300.3"
      ]
     },
     "execution_count": 15,
     "metadata": {},
     "output_type": "execute_result"
    }
   ],
   "source": [
    "df_clean.head(11)  "
   ]
  },
  {
   "cell_type": "code",
   "execution_count": 16,
   "metadata": {
    "collapsed": true
   },
   "outputs": [],
   "source": [
    "from pylab import figure, show, legend, xlabel, ylabel\n",
    "import numpy as np\n",
    "import matplotlib.pyplot as mplt\n",
    "from matplotlib import rc"
   ]
  },
  {
   "cell_type": "code",
   "execution_count": 17,
   "metadata": {
    "collapsed": false
   },
   "outputs": [],
   "source": [
    "y=df_clean[u'Pres']\n",
    "x=df_clean[u'HGHT']"
   ]
  },
  {
   "cell_type": "code",
   "execution_count": 18,
   "metadata": {
    "collapsed": false
   },
   "outputs": [
    {
     "data": {
      "text/plain": [
       "<matplotlib.text.Text at 0x7fe325cd9fd0>"
      ]
     },
     "execution_count": 18,
     "metadata": {},
     "output_type": "execute_result"
    }
   ],
   "source": [
    "mplt.plot(x,y)\n",
    "mplt.grid(True)\n",
    "pl.xlabel('Altura (m)')\n",
    "pl.ylabel('Presión (hPa)')\n",
    "pl.title('Presión (hPa) vs. Altura (m)')"
   ]
  },
  {
   "cell_type": "code",
   "execution_count": 19,
   "metadata": {
    "collapsed": false
   },
   "outputs": [
    {
     "data": {
      "image/png": "[encoded data removed]",
      "text/plain": [
       "<matplotlib.figure.Figure at 0x7fe325517470>"
      ]
     },
     "metadata": {},
     "output_type": "display_data"
    }
   ],
   "source": [
    "pl.show()"
   ]
  },
  {
   "cell_type": "code",
   "execution_count": 20,
   "metadata": {
    "collapsed": false
   },
   "outputs": [
    {
     "data": {
      "image/png": "[encoded data removed]",
      "text/plain": [
       "<matplotlib.figure.Figure at 0x7fe326a702b0>"
      ]
     },
     "metadata": {},
     "output_type": "display_data"
    }
   ],
   "source": [
    "y=df_clean[u'TEMP']\n",
    "x=df_clean[u'HGHT']\n",
    "mplt.plot(x,y)\n",
    "mplt.grid(True)\n",
    "pl.xlabel('Altura (m)')\n",
    "pl.ylabel('Temperatura (C)')\n",
    "pl.title('Temperatura (ºC) vs. Altura (m)')\n",
    "pl.show()"
   ]
  },
  {
   "cell_type": "code",
   "execution_count": 21,
   "metadata": {
    "collapsed": false
   },
   "outputs": [
    {
     "data": {
      "image/png": "[encoded data removed]",
      "text/plain": [
       "<matplotlib.figure.Figure at 0x7fe34e4b5c88>"
      ]
     },
     "metadata": {},
     "output_type": "display_data"
    }
   ],
   "source": [
    "y=df_clean[u'DWPT']\n",
    "x=df_clean[u'HGHT']\n",
    "mplt.plot(x,y)\n",
    "mplt.grid(True)\n",
    "pl.xlabel('Altura (m)')\n",
    "pl.ylabel('Temperatura de Rocío (DWPT ºC)')\n",
    "pl.title('Temperatura de Rocío (DWPT ºC) vs. Altura (m)')\n",
    "pl.show()"
   ]
  },
  {
   "cell_type": "code",
   "execution_count": 118,
   "metadata": {
    "collapsed": false
   },
   "outputs": [],
   "source": [
    "y=df_clean[u'TEMP']\n",
    "x=df_clean[u'HGHT']\n",
    "plt.plot(x,y, label='Temp vs altura',color='red')\n",
    "mplt.grid(True)"
   ]
  },
  {
   "cell_type": "code",
   "execution_count": 119,
   "metadata": {
    "collapsed": false
   },
   "outputs": [
    {
     "data": {
      "text/plain": [
       "<matplotlib.text.Text at 0x7fe31f7b73c8>"
      ]
     },
     "execution_count": 119,
     "metadata": {},
     "output_type": "execute_result"
    }
   ],
   "source": [
    "y=df_clean[u'DWPT']\n",
    "x=df_clean[u'HGHT']\n",
    "plt.plot(x,y, label='DWPT vs altura',color='green')\n",
    "plt.grid(True)\n",
    "mplt.grid(True)\n",
    "pl.title('Temperatura y Temperatura de Rocío vs altura')"
   ]
  },
  {
   "cell_type": "code",
   "execution_count": 120,
   "metadata": {
    "collapsed": false
   },
   "outputs": [
    {
     "data": {
      "image/png": "[encoded data removed]",
      "text/plain": [
       "<matplotlib.figure.Figure at 0x7fe31f83e748>"
      ]
     },
     "metadata": {},
     "output_type": "display_data"
    }
   ],
   "source": [
    "plt.legend( loc='upper right', numpoints = 1 )\n",
    "pl.show()"
   ]
  },
  {
   "cell_type": "code",
   "execution_count": null,
   "metadata": {
    "collapsed": true
   },
   "outputs": [],
   "source": []
  },
  {
   "cell_type": "code",
   "execution_count": null,
   "metadata": {
    "collapsed": true
   },
   "outputs": [],
   "source": []
  }
 ],
 "metadata": {
  "anaconda-cloud": {},
  "kernelspec": {
   "display_name": "Python [default]",
   "language": "python",
   "name": "python3"
  },
  "language_info": {
   "codemirror_mode": {
    "name": "ipython",
    "version": 3
   },
   "file_extension": ".py",
   "mimetype": "text/x-python",
   "name": "python",
   "nbconvert_exporter": "python",
   "pygments_lexer": "ipython3",
   "version": "3.5.2"
  }
 },
 "nbformat": 4,
 "nbformat_minor": 1
}
